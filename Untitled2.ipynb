{
 "cells": [
  {
   "cell_type": "code",
   "execution_count": 1,
   "id": "9e01b129-68d0-431f-aaf4-9641b564ac69",
   "metadata": {},
   "outputs": [],
   "source": [
    "import numpy as np\n",
    "y_predicted = np.array([1,1,0,0,1])\n",
    "y_true = np.array([0.30, 0.7, 1, 0, 0.5])"
   ]
  },
  {
   "cell_type": "code",
   "execution_count": 7,
   "id": "6e8a4730-da2a-43de-b262-05d0b0378fe2",
   "metadata": {},
   "outputs": [],
   "source": [
    "def mae(y_true, y_predicted):\n",
    "    total_error = 0\n",
    "    for yt, yp in zip(y_true, y_predicted):\n",
    "        total_error += abs(yt - yp)\n",
    "    return total_error/len(y_true)"
   ]
  },
  {
   "cell_type": "code",
   "execution_count": 9,
   "id": "d5a821df-b1d6-4c15-b5bd-b0fea231844a",
   "metadata": {},
   "outputs": [
    {
     "data": {
      "text/plain": [
       "0.5"
      ]
     },
     "execution_count": 9,
     "metadata": {},
     "output_type": "execute_result"
    }
   ],
   "source": [
    "mae(y_true, y_predicted)"
   ]
  },
  {
   "cell_type": "code",
   "execution_count": null,
   "id": "240ee08a-d728-4dcb-bcf6-da013b950e57",
   "metadata": {},
   "outputs": [],
   "source": []
  }
 ],
 "metadata": {
  "kernelspec": {
   "display_name": "Python 3 (ipykernel)",
   "language": "python",
   "name": "python3"
  },
  "language_info": {
   "codemirror_mode": {
    "name": "ipython",
    "version": 3
   },
   "file_extension": ".py",
   "mimetype": "text/x-python",
   "name": "python",
   "nbconvert_exporter": "python",
   "pygments_lexer": "ipython3",
   "version": "3.12.4"
  }
 },
 "nbformat": 4,
 "nbformat_minor": 5
}
